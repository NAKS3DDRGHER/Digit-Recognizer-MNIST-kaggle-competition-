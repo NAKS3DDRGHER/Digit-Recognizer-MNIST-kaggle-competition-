{
 "cells": [
  {
   "cell_type": "code",
   "execution_count": 2,
   "metadata": {
    "execution": {
     "iopub.execute_input": "2025-03-16T12:43:36.917744Z",
     "iopub.status.busy": "2025-03-16T12:43:36.917413Z",
     "iopub.status.idle": "2025-03-16T12:43:49.912881Z",
     "shell.execute_reply": "2025-03-16T12:43:49.911865Z",
     "shell.execute_reply.started": "2025-03-16T12:43:36.917721Z"
    },
    "id": "hCz3_GErBJWh"
   },
   "outputs": [],
   "source": [
    "import tensorflow as tf\n",
    "from sklearn.model_selection import train_test_split\n",
    "import numpy as np\n",
    "import pandas as pd\n",
    "from functools import partial\n",
    "import math\n",
    "import matplotlib.pyplot as plt"
   ]
  },
  {
   "cell_type": "code",
   "execution_count": 3,
   "metadata": {
    "execution": {
     "iopub.execute_input": "2025-03-16T12:43:55.443435Z",
     "iopub.status.busy": "2025-03-16T12:43:55.442684Z",
     "iopub.status.idle": "2025-03-16T12:43:55.449080Z",
     "shell.execute_reply": "2025-03-16T12:43:55.448247Z",
     "shell.execute_reply.started": "2025-03-16T12:43:55.443395Z"
    },
    "id": "tTdloVZwBOj0"
   },
   "outputs": [],
   "source": [
    "def scale(image, label):\n",
    "    return (tf.cast(image, tf.float32) / 255.0, label)\n",
    "\n",
    "def scale_whitout_label(image):\n",
    "    return tf.cast(image, tf.float32) / 255.0\n",
    "\n",
    "def lrn_layer(x):\n",
    "    return tf.nn.local_response_normalization(x)"
   ]
  },
  {
   "cell_type": "markdown",
   "metadata": {
    "id": "HQQbkJF1Gx0X"
   },
   "source": [
    "# Load data"
   ]
  },
  {
   "cell_type": "code",
   "execution_count": 4,
   "metadata": {
    "execution": {
     "iopub.execute_input": "2025-03-16T12:43:55.866420Z",
     "iopub.status.busy": "2025-03-16T12:43:55.866078Z",
     "iopub.status.idle": "2025-03-16T12:44:02.688794Z",
     "shell.execute_reply": "2025-03-16T12:44:02.688083Z",
     "shell.execute_reply.started": "2025-03-16T12:43:55.866374Z"
    },
    "id": "QO74PVEmBQdC"
   },
   "outputs": [],
   "source": [
    "digit = pd.read_csv('/kaggle/input/my-mnist/digit.csv').to_numpy()\n",
    "test = pd.read_csv('/kaggle/input/my-mnist/test.csv').to_numpy()\n",
    "\n",
    "labels = digit[:, -1]\n",
    "digit = np.delete(digit, -1, axis=1)\n",
    "\n",
    "train_X, test_X, train_Y, test_Y = train_test_split(digit, labels, test_size=0.2)"
   ]
  },
  {
   "cell_type": "markdown",
   "metadata": {
    "id": "79n76CrpG33X"
   },
   "source": [
    "# Preparing data"
   ]
  },
  {
   "cell_type": "code",
   "execution_count": 5,
   "metadata": {
    "execution": {
     "iopub.execute_input": "2025-03-16T12:44:02.690187Z",
     "iopub.status.busy": "2025-03-16T12:44:02.689868Z",
     "iopub.status.idle": "2025-03-16T12:44:04.339496Z",
     "shell.execute_reply": "2025-03-16T12:44:04.338839Z",
     "shell.execute_reply.started": "2025-03-16T12:44:02.690158Z"
    },
    "id": "jnCnezGTCJCo"
   },
   "outputs": [],
   "source": [
    "train_dataset = tf.data.Dataset.from_tensor_slices((train_X, train_Y))\n",
    "\n",
    "train_dataset = train_dataset.map(scale, num_parallel_calls=tf.data.experimental.AUTOTUNE)\n",
    "train_dataset = train_dataset.cache()\n",
    "\n",
    "train_dataset = train_dataset.shuffle(len(train_dataset))\n",
    "train_dataset = train_dataset.batch(64)\n",
    "\n",
    "train_dataset = train_dataset.prefetch(tf.data.experimental.AUTOTUNE)"
   ]
  },
  {
   "cell_type": "code",
   "execution_count": 6,
   "metadata": {
    "execution": {
     "iopub.execute_input": "2025-03-16T12:44:04.341401Z",
     "iopub.status.busy": "2025-03-16T12:44:04.341123Z",
     "iopub.status.idle": "2025-03-16T12:44:04.648742Z",
     "shell.execute_reply": "2025-03-16T12:44:04.647764Z",
     "shell.execute_reply.started": "2025-03-16T12:44:04.341381Z"
    },
    "id": "bKLoy1sYCYaA"
   },
   "outputs": [],
   "source": [
    "valid_dtatset = tf.data.Dataset.from_tensor_slices((test_X, test_Y))\n",
    "\n",
    "valid_dtatset = valid_dtatset.map(scale, num_parallel_calls=tf.data.experimental.AUTOTUNE)\n",
    "valid_dtatset = valid_dtatset.batch(64)\n",
    "valid_dtatset = valid_dtatset.cache()\n",
    "\n",
    "valid_dtatset = valid_dtatset.prefetch(tf.data.experimental.AUTOTUNE)\n",
    "\n",
    "test_scaled = test / 255.0"
   ]
  },
  {
   "cell_type": "markdown",
   "metadata": {
    "id": "yBnokaktHBcc"
   },
   "source": [
    "# Create basic neural network"
   ]
  },
  {
   "cell_type": "code",
   "execution_count": 7,
   "metadata": {
    "execution": {
     "iopub.execute_input": "2025-03-16T12:44:04.650101Z",
     "iopub.status.busy": "2025-03-16T12:44:04.649770Z",
     "iopub.status.idle": "2025-03-16T12:44:04.720960Z",
     "shell.execute_reply": "2025-03-16T12:44:04.720077Z",
     "shell.execute_reply.started": "2025-03-16T12:44:04.650068Z"
    },
    "id": "9pRHCnxGCaF9"
   },
   "outputs": [],
   "source": [
    "model = tf.keras.Sequential([\n",
    "    tf.keras.layers.Dense(600),\n",
    "    tf.keras.layers.BatchNormalization(),\n",
    "    tf.keras.layers.Activation('relu'),\n",
    "    tf.keras.layers.Dense(300),\n",
    "    tf.keras.layers.BatchNormalization(),\n",
    "    tf.keras.layers.Activation('relu'),\n",
    "    tf.keras.layers.Dense(100),\n",
    "    tf.keras.layers.BatchNormalization(),\n",
    "    tf.keras.layers.Activation('relu'),\n",
    "    tf.keras.layers.Dense(10, activation=\"softmax\")\n",
    "])"
   ]
  },
  {
   "cell_type": "code",
   "execution_count": 8,
   "metadata": {
    "execution": {
     "iopub.execute_input": "2025-03-16T12:44:04.722037Z",
     "iopub.status.busy": "2025-03-16T12:44:04.721779Z",
     "iopub.status.idle": "2025-03-16T12:44:04.725810Z",
     "shell.execute_reply": "2025-03-16T12:44:04.724826Z",
     "shell.execute_reply.started": "2025-03-16T12:44:04.722000Z"
    },
    "id": "RVm07NUICcbF"
   },
   "outputs": [],
   "source": [
    "early_stopping_cb = tf.keras.callbacks.EarlyStopping(patience=20, restore_best_weights=True)"
   ]
  },
  {
   "cell_type": "code",
   "execution_count": null,
   "metadata": {
    "execution": {
     "iopub.execute_input": "2025-03-15T16:37:28.640701Z",
     "iopub.status.busy": "2025-03-15T16:37:28.640439Z",
     "iopub.status.idle": "2025-03-15T16:37:31.173584Z",
     "shell.execute_reply": "2025-03-15T16:37:31.171817Z",
     "shell.execute_reply.started": "2025-03-15T16:37:28.640680Z"
    },
    "executionInfo": {
     "elapsed": 3636,
     "status": "error",
     "timestamp": 1741678526732,
     "user": {
      "displayName": "Maks Bodnaruk",
      "userId": "06572966828672716428"
     },
     "user_tz": -120
    },
    "id": "B-o7HiTECdwE",
    "outputId": "04cc7c55-4a54-4878-967c-3352cff8037e"
   },
   "outputs": [],
   "source": [
    "model.compile(optimizer=tf.keras.optimizers.Nadam(learning_rate=2e-2), loss='sparse_categorical_crossentropy', metrics=['accuracy'])\n",
    "\n",
    "history = model.fit(train_dataset, epochs=100,\n",
    "                    validation_data=valid_dtatset,\n",
    "                    callbacks=[early_stopping_cb])"
   ]
  },
  {
   "cell_type": "code",
   "execution_count": null,
   "metadata": {
    "executionInfo": {
     "elapsed": 1230,
     "status": "ok",
     "timestamp": 1741627794476,
     "user": {
      "displayName": "Maks Bodnaruk",
      "userId": "06572966828672716428"
     },
     "user_tz": -120
    },
    "id": "M_wdhNkiCni4",
    "outputId": "7745acd1-44c8-44e3-8de7-fa62912cfa5d"
   },
   "outputs": [],
   "source": [
    "model.evaluate(valid_dtatset)"
   ]
  },
  {
   "cell_type": "markdown",
   "metadata": {
    "id": "IxfuwmE4BuGr"
   },
   "source": [
    "Standart neural networks,with normalization. Good accuracy on MNIST, but not effective for more serious computer vision challenges. Accuracy on kaggle: 0.99532"
   ]
  },
  {
   "cell_type": "markdown",
   "metadata": {
    "id": "yOOHDXuBHRFd"
   },
   "source": [
    "# Preparing data for CNN"
   ]
  },
  {
   "cell_type": "code",
   "execution_count": 23,
   "metadata": {
    "execution": {
     "iopub.execute_input": "2025-03-16T13:16:40.968961Z",
     "iopub.status.busy": "2025-03-16T13:16:40.968661Z",
     "iopub.status.idle": "2025-03-16T13:16:42.424375Z",
     "shell.execute_reply": "2025-03-16T13:16:42.423645Z",
     "shell.execute_reply.started": "2025-03-16T13:16:40.968939Z"
    },
    "id": "4jeeQCSlCoZ9"
   },
   "outputs": [],
   "source": [
    "train_dataset_2d = tf.data.Dataset.from_tensor_slices((train_X.reshape(-1, 28, 28, 1), train_Y))\n",
    "\n",
    "\n",
    "train_dataset_2d = train_dataset_2d.map(scale, num_parallel_calls=tf.data.experimental.AUTOTUNE)\n",
    "train_dataset_2d = train_dataset_2d.cache()\n",
    "\n",
    "train_dataset_2d = train_dataset_2d.shuffle(len(train_dataset_2d))\n",
    "train_dataset_2d = train_dataset_2d.batch(64)\n",
    "\n",
    "train_dataset_2d = train_dataset_2d.prefetch(tf.data.experimental.AUTOTUNE)\n",
    "\n",
    "# test data\n",
    "valid_dtatset_2d = tf.data.Dataset.from_tensor_slices((test_X.reshape(-1, 28, 28, 1), test_Y))\n",
    "\n",
    "valid_dtatset_2d = valid_dtatset_2d.map(scale, num_parallel_calls=tf.data.experimental.AUTOTUNE)\n",
    "valid_dtatset_2d = valid_dtatset_2d.batch(64)\n",
    "valid_dtatset_2d = valid_dtatset_2d.cache()\n",
    "\n",
    "valid_dtatset_2d = valid_dtatset_2d.prefetch(tf.data.experimental.AUTOTUNE)\n",
    "\n",
    "test_2d = scale_whitout_label(test.reshape(-1, 28, 28, 1))\n"
   ]
  },
  {
   "cell_type": "markdown",
   "metadata": {},
   "source": [
    "# Data augmentation"
   ]
  },
  {
   "cell_type": "code",
   "execution_count": 24,
   "metadata": {
    "execution": {
     "iopub.execute_input": "2025-03-16T13:16:42.425834Z",
     "iopub.status.busy": "2025-03-16T13:16:42.425496Z",
     "iopub.status.idle": "2025-03-16T13:16:42.439573Z",
     "shell.execute_reply": "2025-03-16T13:16:42.438850Z",
     "shell.execute_reply.started": "2025-03-16T13:16:42.425803Z"
    }
   },
   "outputs": [],
   "source": [
    "data_augmentation = tf.keras.Sequential([\n",
    "    tf.keras.layers.Input([28, 28, 1]),\n",
    "    tf.keras.layers.RandomFlip(\"horizontal\"),\n",
    "    tf.keras.layers.RandomRotation(0.05)\n",
    "])"
   ]
  },
  {
   "cell_type": "markdown",
   "metadata": {
    "id": "czGl1dRRCtyb"
   },
   "source": [
    "# Use LeNet5 CNN architecture"
   ]
  },
  {
   "cell_type": "code",
   "execution_count": null,
   "metadata": {
    "execution": {
     "execution_failed": "2025-03-11T16:46:28.731Z",
     "iopub.execute_input": "2025-03-11T16:44:25.052744Z",
     "iopub.status.busy": "2025-03-11T16:44:25.052432Z"
    },
    "executionInfo": {
     "elapsed": 8416,
     "status": "error",
     "timestamp": 1741676518757,
     "user": {
      "displayName": "Maks Bodnaruk",
      "userId": "06572966828672716428"
     },
     "user_tz": -120
    },
    "id": "EDEm69-SCrEH",
    "outputId": "59fd4792-2a76-497f-af29-53314e0c0cb2"
   },
   "outputs": [],
   "source": [
    "model_LeNet5 = tf.keras.Sequential([\n",
    "    tf.keras.layers.Conv2D(filters=6,kernel_size=5, activation='tanh', padding='same',strides=1),\n",
    "    tf.keras.layers.AvgPool2D(pool_size=(2,2), strides=2),\n",
    "    tf.keras.layers.Conv2D(filters=16,kernel_size=5, activation='tanh', padding='valid',strides=1),\n",
    "    tf.keras.layers.AvgPool2D(pool_size=(2,2), strides=2),\n",
    "    tf.keras.layers.Conv2D(filters=120,kernel_size=5, activation='tanh', padding='valid',strides=1),\n",
    "    tf.keras.layers.Flatten(),\n",
    "    tf.keras.layers.Dense(84, activation='tanh'),\n",
    "    tf.keras.layers.Dense(10, activation='softmax'),\n",
    "])\n",
    "\n",
    "model_LeNet5.compile(optimizer=tf.keras.optimizers.Nadam(), loss='sparse_categorical_crossentropy', metrics=['accuracy'])\n",
    "\n",
    "history = model_LeNet5.fit(train_dataset_2d, epochs=100,\n",
    "                    validation_data=valid_dtatset_2d,\n",
    "                    callbacks=[early_stopping_cb])"
   ]
  },
  {
   "cell_type": "code",
   "execution_count": null,
   "metadata": {
    "executionInfo": {
     "elapsed": 619,
     "status": "ok",
     "timestamp": 1741633615966,
     "user": {
      "displayName": "Maks Bodnaruk",
      "userId": "06572966828672716428"
     },
     "user_tz": -120
    },
    "id": "tG4aUrMfHdXh",
    "outputId": "00fac6ff-015a-4388-ed01-ed2e49a0cd28"
   },
   "outputs": [],
   "source": [
    "model_LeNet5.evaluate(valid_dtatset_2d)"
   ]
  },
  {
   "cell_type": "markdown",
   "metadata": {
    "id": "MjbDgX8NA-JD"
   },
   "source": [
    "Clasic CNN architecture, it was created by Yann LeCun.It shows good results, although it is a bit outdated today. Accuracy on kaggle: 0.99342"
   ]
  },
  {
   "cell_type": "markdown",
   "metadata": {
    "id": "57wmBynfd1El"
   },
   "source": [
    "# CNN my implementation"
   ]
  },
  {
   "cell_type": "code",
   "execution_count": null,
   "metadata": {
    "executionInfo": {
     "elapsed": 459154,
     "status": "ok",
     "timestamp": 1741679001246,
     "user": {
      "displayName": "Maks Bodnaruk",
      "userId": "06572966828672716428"
     },
     "user_tz": -120
    },
    "id": "U5oIG8omMOwi",
    "outputId": "e2abf4cd-ebeb-43e4-de9f-0ea68b66f923"
   },
   "outputs": [],
   "source": [
    "DefaultConv2D = partial(tf.keras.layers.Conv2D, kernel_size=3, padding=\"same\",\n",
    "                        activation=\"relu\", kernel_initializer=\"he_normal\")\n",
    "model_cnn = tf.keras.Sequential([\n",
    "    DefaultConv2D(filters=64, kernel_size=7, input_shape=[28, 28, 1]), \n",
    "    tf.keras.layers.MaxPool2D(),\n",
    "    \n",
    "    DefaultConv2D(filters=128),\n",
    "    DefaultConv2D(filters=128),\n",
    "    tf.keras.layers.MaxPool2D(),\n",
    "    \n",
    "    DefaultConv2D(filters=256),\n",
    "    DefaultConv2D(filters=256),\n",
    "    # tf.keras.layers.MaxPool2D(),\n",
    "    tf.keras.layers.GlobalAvgPool2D(),\n",
    "    \n",
    "    tf.keras.layers.Flatten(),\n",
    "    tf.keras.layers.Dense(units=256, kernel_initializer=\"he_normal\"),# 128 - 256\n",
    "    tf.keras.layers.BatchNormalization(),\n",
    "    tf.keras.layers.Activation('relu'),\n",
    "    tf.keras.layers.Dropout(0.4),\n",
    "    tf.keras.layers.Dense(units=128,kernel_initializer=\"he_normal\"), # 64 - 128\n",
    "    tf.keras.layers.BatchNormalization(),\n",
    "    tf.keras.layers.Activation('relu'),\n",
    "    tf.keras.layers.Dropout(0.4),\n",
    "    tf.keras.layers.Dense(units=10, activation=\"softmax\")\n",
    "])\n",
    "\n",
    "model_cnn.compile(optimizer=tf.keras.optimizers.Nadam(), loss='sparse_categorical_crossentropy', metrics=['accuracy'])\n",
    "\n",
    "history = model_cnn.fit(train_dataset_2d, epochs=100,\n",
    "                    validation_data=valid_dtatset_2d,\n",
    "                    callbacks=[early_stopping_cb])"
   ]
  },
  {
   "cell_type": "markdown",
   "metadata": {},
   "source": [
    "My implemetatin of CNN. Accuracy on kaggle: 0.99875 (The Best)."
   ]
  },
  {
   "cell_type": "code",
   "execution_count": 22,
   "metadata": {
    "execution": {
     "iopub.execute_input": "2025-03-16T13:16:21.562107Z",
     "iopub.status.busy": "2025-03-16T13:16:21.561748Z",
     "iopub.status.idle": "2025-03-16T13:16:22.118813Z",
     "shell.execute_reply": "2025-03-16T13:16:22.118141Z",
     "shell.execute_reply.started": "2025-03-16T13:16:21.562082Z"
    },
    "executionInfo": {
     "elapsed": 1264,
     "status": "ok",
     "timestamp": 1741679008411,
     "user": {
      "displayName": "Maks Bodnaruk",
      "userId": "06572966828672716428"
     },
     "user_tz": -120
    },
    "id": "UzY6-0oHeQXl",
    "outputId": "9b4d2bbb-0b3d-4f63-a978-abcefdc2f540"
   },
   "outputs": [
    {
     "name": "stdout",
     "output_type": "stream",
     "text": [
      "\u001b[1m219/219\u001b[0m \u001b[32m━━━━━━━━━━━━━━━━━━━━\u001b[0m\u001b[37m\u001b[0m \u001b[1m1s\u001b[0m 2ms/step - accuracy: 0.9693 - loss: 0.1047\n"
     ]
    },
    {
     "data": {
      "text/plain": [
       "[0.101453498005867, 0.9700000286102295]"
      ]
     },
     "execution_count": 22,
     "metadata": {},
     "output_type": "execute_result"
    }
   ],
   "source": [
    "model_cnn.evaluate(valid_dtatset_2d)"
   ]
  },
  {
   "cell_type": "markdown",
   "metadata": {
    "id": "_7YK3bgjI-og"
   },
   "source": [
    "# Use AlexNet"
   ]
  },
  {
   "cell_type": "code",
   "execution_count": null,
   "metadata": {
    "execution": {
     "iopub.execute_input": "2025-03-15T16:53:09.108116Z",
     "iopub.status.busy": "2025-03-15T16:53:09.107808Z",
     "iopub.status.idle": "2025-03-15T16:56:21.243177Z",
     "shell.execute_reply": "2025-03-15T16:56:21.242199Z",
     "shell.execute_reply.started": "2025-03-15T16:53:09.108094Z"
    },
    "id": "NUKG4teNJCSJ",
    "outputId": "ad1ad0bf-f50a-41fa-d539-83f5650fbba8"
   },
   "outputs": [],
   "source": [
    "model_alexNet = tf.keras.Sequential([\n",
    "    tf.keras.layers.Conv2D(96, kernel_size=7, activation='relu', padding='valid', strides=1),\n",
    "    tf.keras.layers.MaxPool2D((3,3), strides=2, padding='valid'),\n",
    "    tf.keras.layers.Lambda(lrn_layer),  # Додавання LRN після другої згортки\n",
    "    \n",
    "    tf.keras.layers.Conv2D(256, (3,3), padding=\"same\", activation=\"relu\", strides=1),\n",
    "    tf.keras.layers.MaxPool2D((3,3), strides=2, padding='valid'),\n",
    "    tf.keras.layers.Lambda(lrn_layer),  # Додавання LRN після другої згортки\n",
    "    \n",
    "    tf.keras.layers.Conv2D(384, (3,3), padding=\"same\", activation=\"relu\", strides=1),\n",
    "    tf.keras.layers.Conv2D(384, (3,3), padding=\"same\", activation=\"relu\", strides=1),\n",
    "    tf.keras.layers.Conv2D(256, (3,3), padding=\"same\", activation=\"relu\", strides=1),\n",
    "    tf.keras.layers.MaxPool2D((3,3), strides=2, padding='valid'),\n",
    "    tf.keras.layers.GlobalAvgPool2D(),\n",
    "    tf.keras.layers.Flatten(),\n",
    "    \n",
    "    tf.keras.layers.Dense(units=4096, kernel_initializer=\"he_normal\"),\n",
    "    tf.keras.layers.BatchNormalization(),\n",
    "    tf.keras.layers.Activation('relu'),\n",
    "    tf.keras.layers.Dropout(0.4),\n",
    "    tf.keras.layers.Dense(units=4096, kernel_initializer=\"he_normal\"), \n",
    "    tf.keras.layers.BatchNormalization(),\n",
    "    tf.keras.layers.Activation('relu'),\n",
    "    tf.keras.layers.Dropout(0.4),\n",
    "    tf.keras.layers.Dense(units=10, activation='softmax')\n",
    "])\n",
    "\n",
    "model_alexNet.compile(optimizer=tf.keras.optimizers.Nadam(), loss='sparse_categorical_crossentropy', metrics=['accuracy'])\n",
    "\n",
    "history = model_alexNet.fit(train_dataset_2d, epochs=100,\n",
    "                    validation_data=valid_dtatset_2d,\n",
    "                    callbacks=[early_stopping_cb])"
   ]
  },
  {
   "cell_type": "markdown",
   "metadata": {},
   "source": [
    " Accuracy on kaggle: 0.99771"
   ]
  },
  {
   "cell_type": "code",
   "execution_count": null,
   "metadata": {
    "execution": {
     "iopub.execute_input": "2025-03-15T17:00:55.775359Z",
     "iopub.status.busy": "2025-03-15T17:00:55.775067Z",
     "iopub.status.idle": "2025-03-15T17:00:56.452071Z",
     "shell.execute_reply": "2025-03-15T17:00:56.451383Z",
     "shell.execute_reply.started": "2025-03-15T17:00:55.775337Z"
    },
    "id": "kG8KeJdzOMMV"
   },
   "outputs": [],
   "source": [
    "model_alexNet.evaluate(valid_dtatset_2d)"
   ]
  },
  {
   "cell_type": "markdown",
   "metadata": {},
   "source": [
    "# Save model"
   ]
  },
  {
   "cell_type": "code",
   "execution_count": 13,
   "metadata": {
    "execution": {
     "iopub.execute_input": "2025-03-16T12:49:11.587766Z",
     "iopub.status.busy": "2025-03-16T12:49:11.587458Z",
     "iopub.status.idle": "2025-03-16T12:49:13.954436Z",
     "shell.execute_reply": "2025-03-16T12:49:13.953633Z",
     "shell.execute_reply.started": "2025-03-16T12:49:11.587741Z"
    },
    "executionInfo": {
     "elapsed": 3986,
     "status": "ok",
     "timestamp": 1741677106188,
     "user": {
      "displayName": "Maks Bodnaruk",
      "userId": "06572966828672716428"
     },
     "user_tz": -120
    },
    "id": "VPsfpG3tJlgS",
    "outputId": "1fb1cce3-cd39-4c73-c8c4-ca5cc0515ff2"
   },
   "outputs": [
    {
     "name": "stdout",
     "output_type": "stream",
     "text": [
      "\u001b[1m875/875\u001b[0m \u001b[32m━━━━━━━━━━━━━━━━━━━━\u001b[0m\u001b[37m\u001b[0m \u001b[1m2s\u001b[0m 1ms/step\n"
     ]
    }
   ],
   "source": [
    "preds = model_cnn.predict(test_2d)\n",
    "ans = np.argmax(preds, axis=1)\n",
    "df = pd.DataFrame({\n",
    "    'ImageId': np.arange(1, len(ans) + 1),\n",
    "    'Label': ans\n",
    "})\n",
    "df.to_csv(\"ans.csv\", index=False)"
   ]
  }
 ],
 "metadata": {
  "accelerator": "GPU",
  "colab": {
   "authorship_tag": "ABX9TyODXHfXpxIz9WJdlSKLjgTg",
   "gpuType": "T4",
   "provenance": []
  },
  "kaggle": {
   "accelerator": "gpu",
   "dataSources": [
    {
     "datasetId": 6842079,
     "sourceId": 10992368,
     "sourceType": "datasetVersion"
    }
   ],
   "dockerImageVersionId": 30920,
   "isGpuEnabled": true,
   "isInternetEnabled": true,
   "language": "python",
   "sourceType": "notebook"
  },
  "kernelspec": {
   "display_name": "Python 3 (ipykernel)",
   "language": "python",
   "name": "python3"
  },
  "language_info": {
   "codemirror_mode": {
    "name": "ipython",
    "version": 3
   },
   "file_extension": ".py",
   "mimetype": "text/x-python",
   "name": "python",
   "nbconvert_exporter": "python",
   "pygments_lexer": "ipython3",
   "version": "3.10.12"
  }
 },
 "nbformat": 4,
 "nbformat_minor": 4
}
